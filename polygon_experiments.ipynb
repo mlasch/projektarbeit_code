{
 "cells": [
  {
   "cell_type": "code",
   "execution_count": 3,
   "metadata": {},
   "outputs": [
    {
     "name": "stdout",
     "output_type": "stream",
     "text": [
      "bla\n"
     ]
    }
   ],
   "source": [
    "import numpy as np\n",
    "import matplotlib.pyplot as plt\n",
    "%config InlineBackend.figure_format = \"retina\"\n",
    "%matplotlib inline\n",
    "\n",
    "import math\n",
    "\n",
    "from scipy.sparse import csgraph\n",
    "\n",
    "print('bla')"
   ]
  },
  {
   "cell_type": "code",
   "execution_count": 46,
   "metadata": {},
   "outputs": [],
   "source": [
    "from queue import PriorityQueue\n",
    "\n",
    "pq = PriorityQueue()\n",
    "\n",
    "class Bla():\n",
    "    def __init__(self, name, cost):\n",
    "        self.name = name\n",
    "        self.cost = cost\n",
    "        \n",
    "    def __lt__(self, other):\n",
    "        return self.cost < other.cost\n",
    "    \n",
    "    def __repr__(self):\n",
    "        return f\"<{self.name}, cost={self.cost}>\"\n"
   ]
  },
  {
   "cell_type": "code",
   "execution_count": 50,
   "metadata": {},
   "outputs": [],
   "source": [
    "pq.put(Bla('AA', 1))\n",
    "pq.put(Bla('B', 2))\n",
    "pq.put(Bla('C', 3))\n",
    "pq.put(Bla('D', 4))\n",
    "pq.put(Bla('E', 3))\n",
    "pq.put(Bla('F', 2))\n",
    "pq.put(Bla('G', 1))"
   ]
  },
  {
   "cell_type": "code",
   "execution_count": 80,
   "metadata": {},
   "outputs": [],
   "source": [
    "bla_list = [Bla('A', 5), Bla('B', 1), Bla('C', 3), Bla('D', 2)]"
   ]
  },
  {
   "cell_type": "code",
   "execution_count": 86,
   "metadata": {},
   "outputs": [
    {
     "name": "stdout",
     "output_type": "stream",
     "text": [
      "[<B, cost=1>, <D, cost=2>, <C, cost=3>, <A, cost=5>]\n"
     ]
    }
   ],
   "source": [
    "bla_list.sort()\n",
    "print(bla_list)"
   ]
  },
  {
   "cell_type": "code",
   "execution_count": 87,
   "metadata": {},
   "outputs": [
    {
     "name": "stdout",
     "output_type": "stream",
     "text": [
      "[<A, cost=5>, <C, cost=3>, <D, cost=2>, <B, cost=1>]\n"
     ]
    }
   ],
   "source": [
    "list.reverse(bla_list)\n",
    "print(bla_list)"
   ]
  },
  {
   "cell_type": "code",
   "execution_count": 92,
   "metadata": {},
   "outputs": [],
   "source": [
    "ret = (bla_list.append(5))"
   ]
  },
  {
   "cell_type": "code",
   "execution_count": 93,
   "metadata": {},
   "outputs": [
    {
     "name": "stdout",
     "output_type": "stream",
     "text": [
      "[<A, cost=5>, <C, cost=3>, <D, cost=2>, <B, cost=1>, 5, 5, 5] None\n"
     ]
    }
   ],
   "source": [
    "print(bla_list, ret)"
   ]
  },
  {
   "cell_type": "markdown",
   "metadata": {},
   "source": [
    "# Line crossing"
   ]
  },
  {
   "cell_type": "code",
   "execution_count": 247,
   "metadata": {},
   "outputs": [],
   "source": [
    "class Vertex:\n",
    "    def __init__(self, x, y, neighbors=None):\n",
    "        self.x = x\n",
    "        self.y = y\n",
    "\n",
    "        if not neighbors:\n",
    "            self.neighbors = []\n",
    "        else:\n",
    "            self.neighbors = neighbors\n",
    "\n",
    "    def add_neighbor(self, neighbor):\n",
    "        self.neighbors.append(neighbor)\n",
    "\n",
    "    def __repr__(self):\n",
    "        return \"<V({:0.2f},{:0.2f})\".format(self.x, self.y)\n",
    "\n",
    "class Edge:\n",
    "    def __init__(self, p1=None, p2=None):\n",
    "        if p1:\n",
    "            self.p1 = p1\n",
    "        else:\n",
    "            self.p1 = Vertex(0,0)\n",
    "\n",
    "        if p2:\n",
    "            self.p2 = p2\n",
    "        else:\n",
    "            self.p2 = Vertex(0,0)\n",
    "\n",
    "    def intersect(self, other):\n",
    "        # more info https://en.wikipedia.org/wiki/Line%E2%80%93line_intersection\n",
    "        den = (self.p1.x-self.p2.x)*(other.p1.y-other.p2.y)-(self.p1.y-self.p2.y)*(other.p1.x-other.p2.x)\n",
    "        if den == 0:\n",
    "            # lines are parallel\n",
    "            print(\"PARALLEL\")\n",
    "            return False\n",
    "\n",
    "        t = ((self.p1.x-other.p1.x)*(other.p1.y-other.p2.y)-(self.p1.y-other.p1.y)*(other.p1.x-other.p2.x))/ den\n",
    "        u = -((self.p1.x-self.p2.x)*(self.p1.y-other.p1.y)-(self.p1.y-self.p2.y)*(self.p1.x-other.p1.x))/ den\n",
    "\n",
    "        #print(\"t,u {:.10f} {:.10f}\".format(t,u))\n",
    "        x1 = self.p1.x+t*(self.p2.x-self.p1.x)\n",
    "        y1 = self.p1.y+t*(self.p2.y-self.p1.y)\n",
    "        \n",
    "        if u < 1 and u > 0:\n",
    "            return (x1, y1)\n",
    "\n",
    "        return False\n",
    "    \n"
   ]
  },
  {
   "cell_type": "code",
   "execution_count": 249,
   "metadata": {},
   "outputs": [
    {
     "name": "stdout",
     "output_type": "stream",
     "text": [
      "PARALLEL\n",
      "they do not\n"
     ]
    },
    {
     "data": {
      "text/plain": [
       "[<matplotlib.lines.Line2D at 0x7fe1781399e8>]"
      ]
     },
     "execution_count": 249,
     "metadata": {},
     "output_type": "execute_result"
    },
    {
     "data": {
      "image/png": "[encoded data removed]",
      "text/plain": [
       "<Figure size 432x288 with 1 Axes>"
      ]
     },
     "metadata": {
      "image/png": {
       "height": 250,
       "width": 380
      },
      "needs_background": "light"
     },
     "output_type": "display_data"
    }
   ],
   "source": [
    "import numpy as np\n",
    "import matplotlib.pyplot as plt\n",
    "%config InlineBackend.figure_format = \"retina\"\n",
    "%matplotlib inline\n",
    "V=Vertex\n",
    "\n",
    "#<V(7.00,4.00)> <V(7.00,-4.00)>\n",
    "\n",
    "a = Edge(Vertex(1,1), Vertex(2,2))\n",
    "b = Edge(Vertex(1.1,1.1), Vertex(3,3))\n",
    "\n",
    "res = a.intersect(b)\n",
    "if res != False:\n",
    "    print(\"they intersect\")\n",
    "    x1, y1 = res\n",
    "    plt.scatter(x1, y1)\n",
    "else:\n",
    "    print(\"they do not\")\n",
    "    \n",
    "x1, y1 = (a.p1.x, a.p1.y)\n",
    "x2, y2 = (a.p2.x, a.p2.y)\n",
    "x3, y3 = (b.p1.x, b.p1.y)\n",
    "x4, y4 = (b.p2.x, b.p2.y)\n",
    "\n",
    "plt.plot([x1,x2], [y1,y2])\n",
    "plt.plot([x3,x4], [y3,y4])\n"
   ]
  },
  {
   "cell_type": "code",
   "execution_count": 236,
   "metadata": {},
   "outputs": [
    {
     "name": "stdout",
     "output_type": "stream",
     "text": [
      "Schnittpunkt: 900.0, -300.0\n",
      "no intersection\n"
     ]
    }
   ],
   "source": [
    "#Ax = b\n",
    "\n",
    "A = np.array([[x2-x1, y1-y2],\n",
    "              [x4-x3, y3-y4]])\n",
    "b = np.array([-x1*y2+x2*y1,\n",
    "              -x3*y4+x4*y3])\n",
    "try:\n",
    "    x = np.linalg.solve(A, b)\n",
    "    print(f\"Schnittpunkt: {x[1]}, {x[0]}\")\n",
    "except np.linalg.LinAlgError as e:\n",
    "    print(\"Kein Schnittpunkt\", e)\n",
    "\n",
    "y_, x_ = x\n",
    "\n",
    "rx0 = (x_ - x1) / (x2 - x1)\n",
    "ry0 = (y_ - y1) / (y2 - y1)\n",
    "rx1 = (x_ - x3) / (x4 - x3)\n",
    "ry1 = (y_ - y3) / (y4-0.001 - y3+0.001)\n",
    "\n",
    "if ((rx0 > 0 and rx0 < 1) or (ry0 > 0 and ry0 <1)) and ((rx1 > 0 and rx1 < 1) or (ry1 > 0 and ry1 <1)):\n",
    "    # intersection\n",
    "    print(\"intersection\")\n",
    "else:\n",
    "    # no intersection\n",
    "    print(\"no intersection\")\n",
    "\n",
    "#if x1 < x2:\n",
    "#    if x_ >= x1 and x_ <= x2 and y_ >= y1 and y_ <= y2:\n",
    "#        #print(\"crossing line1 \")\n",
    "#        if x_ == x1 and y_ == y1:\n",
    "#            print(\"crossing line1 at start point\")\n",
    "#        else:\n",
    "#            if x_ == x2 and y_ == y2:\n",
    "#                print(\"crossing line1 at end point\")\n",
    "#            else:\n",
    "#                print(\"crossing line1\")\n",
    "#                \n",
    "#else:\n",
    "#    if x_ >= x2 and x_ <= x1 and y_ >= y1 and y_ <= y2:\n",
    "#        #print(\"crossing line1 \")\n",
    "#        if x_ == x1 and y_ == y1:\n",
    "#            print(\"crossing line1 at start point\")\n",
    "#        else:\n",
    "#            if x_ == x2 and y_ == y2:\n",
    "#                print(\"crossing line1 at end point\")\n",
    "#            else:\n",
    "#                print(\"crossing line1\")\n",
    "#        \n",
    "#else:\n",
    "#    print(\"not crossing line1\")\n",
    "#    \n",
    "#if x_ >= x3 and x_ <= x4 and y_ >= y3 and y_ <= y4:\n",
    "#    #print(\"crossing line2 \")\n",
    "#    if x_ == x3 and y_ == y3:\n",
    "#        print(\"crossing line1 at start point\")\n",
    "#    else:\n",
    "#        if x_ == x4 and y_ == y4:\n",
    "#            print(\"crossing line1 at end point\")\n",
    "#        else:\n",
    "#            print(\"crossing line1\")\n",
    "#else:\n",
    "#    print(\"not crossing line2\")\n"
   ]
  },
  {
   "cell_type": "code",
   "execution_count": 127,
   "metadata": {},
   "outputs": [
    {
     "name": "stdout",
     "output_type": "stream",
     "text": [
      "Division through zero\n"
     ]
    },
    {
     "data": {
      "text/plain": [
       "(2.672467371037906, 3000.0)"
      ]
     },
     "execution_count": 127,
     "metadata": {},
     "output_type": "execute_result"
    }
   ],
   "source": [
    "try:\n",
    "    y_ = ((y3*x4-y4*x3)*(y1-y2)-(y1*x2-y2*x1)*(y3-y4))/((x4-x3)*(y1-y2)-(x2-x1)*(y3-y4))\n",
    "    x_ = ((y1*x2-y2*x1)-(x2-x1)*y_)/(y1-y2)\n",
    "except ZeroDivisionError as e:\n",
    "    print(\"Division through zero\")\n",
    "\n",
    "x_, y_"
   ]
  },
  {
   "cell_type": "code",
   "execution_count": 130,
   "metadata": {},
   "outputs": [
    {
     "data": {
      "text/plain": [
       "-inf"
      ]
     },
     "execution_count": 130,
     "metadata": {},
     "output_type": "execute_result"
    }
   ],
   "source": [
    "import math\n",
    "-math.inf"
   ]
  },
  {
   "cell_type": "code",
   "execution_count": 161,
   "metadata": {},
   "outputs": [],
   "source": [
    "xlist = [[(1,2), (3,4), (5,6)], [(8,9), (10,11)]]\n",
    "from functools import reduce\n",
    "temp = list(reduce(lambda x,y:x+y, xlist))\n",
    "\n",
    "x1, y1 = zip(*temp)"
   ]
  },
  {
   "cell_type": "code",
   "execution_count": 164,
   "metadata": {},
   "outputs": [
    {
     "name": "stdout",
     "output_type": "stream",
     "text": [
      "10 1\n"
     ]
    }
   ],
   "source": [
    "print(max(x1), min(x1))"
   ]
  },
  {
   "cell_type": "code",
   "execution_count": 167,
   "metadata": {},
   "outputs": [],
   "source": [
    "xmin = 200.0; xmax = 3400.0; ymin =  200.0; ymax = 2200.0"
   ]
  },
  {
   "cell_type": "code",
   "execution_count": 180,
   "metadata": {},
   "outputs": [
    {
     "name": "stdout",
     "output_type": "stream",
     "text": [
      "666.6666666666666 0.3333333333333333\n"
     ]
    }
   ],
   "source": [
    "width = 1000\n",
    "xscale = width/(xmax-xmin)\n",
    "\n",
    "\n",
    "height = 1000*(ymax+ymin)/(xmax+xmin)\n",
    "yscale = height/(ymax-ymin)\n",
    "\n",
    "print(height,yscale)"
   ]
  },
  {
   "cell_type": "code",
   "execution_count": 178,
   "metadata": {},
   "outputs": [
    {
     "data": {
      "text/plain": [
       "0.6666666666666666"
      ]
     },
     "execution_count": 178,
     "metadata": {},
     "output_type": "execute_result"
    }
   ],
   "source": [
    "(ymax+ymin)/(xmax+xmin)"
   ]
  },
  {
   "cell_type": "code",
   "execution_count": 184,
   "metadata": {},
   "outputs": [],
   "source": [
    "polygons = [[(2700.0, 1700.0), (2300.0, 200.0), (3400.0, 800.0)],\n",
    "[(300.0, 2200.0), (200.0, 800.0), (900.0, 1400.0)],\n",
    "[(0.0, 0.0), (-1000.0, 0.0), (-1000.0, -1000.0), (0.0, -1000.0)],\n",
    "[(1900.0, 3100.0), (2500.0, 2600.0), (1700.0, 2000.0)]]\n",
    "\n",
    "for"
   ]
  },
  {
   "cell_type": "code",
   "execution_count": 4,
   "metadata": {},
   "outputs": [
    {
     "data": {
      "text/plain": [
       "4294967296.0"
      ]
     },
     "execution_count": 4,
     "metadata": {},
     "output_type": "execute_result"
    }
   ],
   "source": [
    "math.pow(2,32)"
   ]
  },
  {
   "cell_type": "code",
   "execution_count": null,
   "metadata": {},
   "outputs": [],
   "source": [
    "# c-space\n",
    "from random import randint\n",
    "\n",
    "class Vertex:\n",
    "    def __init__(self, x=None, y=None):\n",
    "        if x == None:\n",
    "            self.x = randint(0, 100)\n",
    "        else:\n",
    "            self.x = x\n",
    "        \n",
    "        if y == None:\n",
    "            self.y = randint(0, 100)\n",
    "        else:\n",
    "            self.y = y\n",
    "            \n",
    "    def __sub__(self, other):\n",
    "        self.x -= other.x\n",
    "        self.y -= other.y\n",
    "        \n",
    "    def __repr__(self):\n",
    "        return \"({},{})\".format(self.x, self.y)\n",
    "\n",
    "    def tup(self):\n",
    "        return (self.x, self.y)\n",
    "\n",
    "# create random points\n",
    "S = []\n",
    "for i in range(5):\n",
    "    S.append(Vertex())\n",
    "    \n",
    "S.sort(key=lambda v: v.x)\n",
    "\n",
    "start_p = S[0];\n",
    "next_p = None\n",
    "P = [S[0]]\n",
    "it = 0\n",
    "while (next_p != P[0]):\n",
    "    if it > 100:\n",
    "        print(\"BREAK!\")\n",
    "        break\n",
    "    else:\n",
    "        it += 1\n",
    "        \n",
    "    for check_p in S:\n",
    "        if next_p == None:\n",
    "            next_p = check_p\n",
    "        else:\n",
    "            position = (next_p.x - start_p.x) * (check_p.y - start_p.y) - (next_p.y - start_p.y) * (check_p.x - start_p.x)\n",
    "\n",
    "            print(position)\n",
    "\n",
    "            if position < 0:\n",
    "                next_p = check_p\n",
    "                \n",
    "\n",
    "    P.append(next_p)\n",
    "    start_p = next_p\n",
    "\n",
    "print(P)\n",
    "#print(points)\n",
    "#print(P)\n",
    "#x, y = zip(*S.tub())\n",
    "#\n",
    "#plt.scatter(x,y);\n",
    "#x, y = zip(*P.tub())\n",
    "#plt.scatter(x,y);"
   ]
  },
  {
   "cell_type": "code",
   "execution_count": 22,
   "metadata": {},
   "outputs": [
    {
     "name": "stdout",
     "output_type": "stream",
     "text": [
      "OUTER: (1,1)\n",
      "INNER (1,1)\n",
      "INNER (2,1)UPDATE\n",
      "INNER (2,2)\n",
      "INNER (3,1)\n",
      "APPEND (2,1)\n",
      "OUTER: (2,1)\n",
      "INNER (1,1)\n",
      "INNER (2,1)\n",
      "INNER (2,2)UPDATE\n",
      "INNER (3,1)UPDATE\n",
      "APPEND (3,1)\n",
      "OUTER: (3,1)\n",
      "INNER (1,1)\n",
      "INNER (2,1)\n",
      "INNER (2,2)UPDATE\n",
      "INNER (3,1)\n",
      "APPEND (2,2)\n",
      "OUTER: (2,2)\n",
      "INNER (1,1)\n",
      "INNER (2,1)\n",
      "INNER (2,2)\n",
      "INNER (3,1)\n",
      "APPEND (1,1)\n",
      "! (1,1) (2,1) (3,1)\n",
      "! (2,1) (3,1) (2,2)\n",
      "! (3,1) (2,2) (1,1)\n",
      "(1,1) (2,1)\n",
      "(2,1) (3,1)\n",
      "(3,1) (2,2)\n",
      "(2,2) (1,1)\n"
     ]
    },
    {
     "data": {
      "image/png": "[encoded data removed]",
      "text/plain": [
       "<Figure size 432x288 with 1 Axes>"
      ]
     },
     "metadata": {
      "image/png": {
       "height": 250,
       "width": 373
      },
      "needs_background": "light"
     },
     "output_type": "display_data"
    }
   ],
   "source": [
    "#S = [Vertex(1,6), Vertex(2,1), Vertex(5,4) , Vertex(3,3)]\n",
    "\n",
    "\n",
    "S = []\n",
    "for i in range(500):\n",
    "    S.append(Vertex())\n",
    "\n",
    "S = [Vertex(1,1), Vertex(2,1), Vertex(3,1), Vertex(2,2)]\n",
    "    \n",
    "S.sort(key=lambda v: v.x)\n",
    "P = [S[0]]\n",
    "next_p = None\n",
    "\n",
    "start_p = S[0]\n",
    "while (next_p != P[0]):\n",
    "    #print(\"Current Point:\", start_p)\n",
    "    next_p = None\n",
    "    print(\"OUTER:\", start_p)\n",
    "    for check_p in S:\n",
    "        print(\"INNER\", check_p, end='')\n",
    "        if next_p == None:\n",
    "            next_p = check_p\n",
    "            print(\"\")\n",
    "        else:\n",
    "            #print(\"Check:\", start_p, next_p, check_p)\n",
    "            position = (next_p.x - start_p.x) * (check_p.y - start_p.y) - (next_p.y - start_p.y) * (check_p.x - start_p.x)\n",
    "            \n",
    "            #print(\"Pos. \", position)\n",
    "            if next_p == start_p or position < 0:\n",
    "                #print(\"save\", check_p)\n",
    "                next_p = check_p\n",
    "                print(\"UPDATE\")\n",
    "            else:\n",
    "                print(\"\")\n",
    "                \n",
    "    print(\"APPEND\", next_p)\n",
    "    P.append(next_p)\n",
    "    \n",
    "    start_p = next_p\n",
    "\n",
    "#position = (next_p.x - start_p.x) * (check_p.y - start_p.y) - (next_p.y - start_p.y) * (check_p.x - start_p.x)\n",
    "#print(position)\n",
    "\n",
    "#plt.plot([start_p.x,next_p.x], [start_p.y,next_p.y])\n",
    "#plt.plot([start_p.x,check_p.x], [start_p.y,check_p.y])\n",
    "\n",
    "for i in range(len(P)-2):\n",
    "    print(\"!\", P[i], P[i+1], P[i+2])\n",
    "    \n",
    "    if angle < 0.001:\n",
    "        P.append(P[i+1])\n",
    "    \n",
    "\n",
    "x = []\n",
    "y = []\n",
    "for v in S:\n",
    "    x.append(v.x)\n",
    "    y.append(v.y)\n",
    "plt.scatter(x,y);\n",
    "\n",
    "old = None\n",
    "for p in P:\n",
    "    if old:\n",
    "        print(old, p)\n",
    "        plt.plot([old.x, p.x], [old.y, p.y])\n",
    "    old = p\n",
    "    "
   ]
  },
  {
   "cell_type": "code",
   "execution_count": 328,
   "metadata": {},
   "outputs": [
    {
     "name": "stdout",
     "output_type": "stream",
     "text": [
      "(3,3) (1,6)\n"
     ]
    }
   ],
   "source": [
    "print(check_p, next_p)"
   ]
  },
  {
   "cell_type": "code",
   "execution_count": 198,
   "metadata": {},
   "outputs": [
    {
     "name": "stdout",
     "output_type": "stream",
     "text": [
      "print func1\n"
     ]
    },
    {
     "data": {
      "text/plain": [
       "True"
      ]
     },
     "execution_count": 198,
     "metadata": {},
     "output_type": "execute_result"
    }
   ],
   "source": [
    "def func1():\n",
    "    print(\"print func1\")\n",
    "    return True\n",
    "\n",
    "def func2():\n",
    "    print(\"print func2\")\n",
    "    return True\n",
    "\n",
    "func1() or func2()"
   ]
  },
  {
   "cell_type": "code",
   "execution_count": null,
   "metadata": {},
   "outputs": [],
   "source": []
  }
 ],
 "metadata": {
  "kernelspec": {
   "display_name": "Python 3",
   "language": "python",
   "name": "python3"
  },
  "language_info": {
   "codemirror_mode": {
    "name": "ipython",
    "version": 3
   },
   "file_extension": ".py",
   "mimetype": "text/x-python",
   "name": "python",
   "nbconvert_exporter": "python",
   "pygments_lexer": "ipython3",
   "version": "3.6.8"
  }
 },
 "nbformat": 4,
 "nbformat_minor": 2
}
